{
  "cells": [
    {
      "cell_type": "markdown",
      "id": "nlslt1PyMgbX",
      "metadata": {
        "id": "nlslt1PyMgbX"
      },
      "source": [
        "# 📘 Interacción básica con el usuario en Python\n",
        "\n",
        "En este notebook vamos a ver cómo crear un programa simple en Python que:\n",
        "\n",
        "1. Pide el nombre del usuario.\n",
        "2. Saluda al usuario por su nombre.\n",
        "3. Informa cuántos caracteres tiene ese nombre."
      ]
    },
    {
      "cell_type": "markdown",
      "id": "V-wETQQJMgbb",
      "metadata": {
        "id": "V-wETQQJMgbb"
      },
      "source": [
        "## 🔢 Paso 1: Pedirle el nombre al usuario"
      ]
    },
    {
      "cell_type": "code",
      "execution_count": null,
      "id": "mk7kI5aeMgbd",
      "metadata": {
        "id": "mk7kI5aeMgbd"
      },
      "outputs": [],
      "source": [
        "nombre = input(\"Colocá tu nombre: \")"
      ]
    },
    {
      "cell_type": "markdown",
      "id": "zsZnpZEbMgbg",
      "metadata": {
        "id": "zsZnpZEbMgbg"
      },
      "source": [
        "📌 **Explicación:**\n",
        "\n",
        "- `input()` es una función de Python que permite recibir texto ingresado por el usuario.\n",
        "- El texto `\"Colocá tu nombre: \"` es el mensaje que se muestra en la consola para guiar al usuario.\n",
        "- Lo que el usuario escriba se guarda en la variable `nombre`."
      ]
    },
    {
      "cell_type": "markdown",
      "id": "vUibelOOMgbh",
      "metadata": {
        "id": "vUibelOOMgbh"
      },
      "source": [
        "## 👋 Paso 2: Saludar al usuario"
      ]
    },
    {
      "cell_type": "code",
      "execution_count": null,
      "id": "AfwlCElsMgbh",
      "metadata": {
        "id": "AfwlCElsMgbh"
      },
      "outputs": [],
      "source": [
        "print(f\"Hola {nombre}\")"
      ]
    },
    {
      "cell_type": "markdown",
      "id": "ZFTGErRwMgbi",
      "metadata": {
        "id": "ZFTGErRwMgbi"
      },
      "source": [
        "📌 **Explicación:**\n",
        "\n",
        "- `print()` muestra un mensaje en pantalla.\n",
        "- La `f` antes del string indica que estamos usando una **f-string**, que permite insertar variables dentro del texto encerrándolas entre llaves `{}`.\n",
        "- En este caso, insertamos la variable `nombre` para personalizar el saludo."
      ]
    },
    {
      "cell_type": "markdown",
      "id": "JagSj0OlMgbj",
      "metadata": {
        "id": "JagSj0OlMgbj"
      },
      "source": [
        "## 🔠 Paso 3: Calcular cuántos caracteres tiene el nombre"
      ]
    },
    {
      "cell_type": "code",
      "execution_count": null,
      "id": "AV1DAsuyMgbl",
      "metadata": {
        "id": "AV1DAsuyMgbl"
      },
      "outputs": [],
      "source": [
        "print(f\"Tu nombre mide {len(nombre)} caracteres\")"
      ]
    },
    {
      "cell_type": "markdown",
      "id": "OUGTNOmxMgbn",
      "metadata": {
        "id": "OUGTNOmxMgbn"
      },
      "source": [
        "📌 **Explicación:**\n",
        "\n",
        "- `len(nombre)` calcula la **cantidad de caracteres** del nombre ingresado.\n",
        "- De nuevo usamos una f-string para mostrar ese número dentro del mensaje."
      ]
    },
    {
      "cell_type": "markdown",
      "id": "U-z3MOXeMgbn",
      "metadata": {
        "id": "U-z3MOXeMgbn"
      },
      "source": [
        "## 🎯 Ejemplo completo"
      ]
    },
    {
      "cell_type": "code",
      "execution_count": null,
      "id": "ZM1pUzF0Mgbo",
      "metadata": {
        "id": "ZM1pUzF0Mgbo"
      },
      "outputs": [],
      "source": [
        "nombre = input(\"Colocá tu nombre: \")\n",
        "\n",
        "print(f\"Hola {nombre}\")\n",
        "print(f\"Tu nombre mide {len(nombre)} caracteres\")"
      ]
    },
    {
      "cell_type": "markdown",
      "id": "rtjkbq5kMgbp",
      "metadata": {
        "id": "rtjkbq5kMgbp"
      },
      "source": [
        "✅ Este programa es un ejemplo sencillo pero útil para entender cómo:\n",
        "\n",
        "- Interactuar con el usuario.\n",
        "- Usar variables.\n",
        "- Utilizar funciones como `input()` y `len()`.\n",
        "- Mostrar resultados personalizados con `print()` y f-strings."
      ]
    }
  ],
  "metadata": {
    "colab": {
      "provenance": []
    },
    "kernelspec": {
      "display_name": "Python 3",
      "language": "python",
      "name": "python3"
    },
    "language_info": {
      "codemirror_mode": {
        "name": "ipython",
        "version": 3
      },
      "file_extension": ".py",
      "mimetype": "text/x-python",
      "name": "python",
      "nbconvert_exporter": "python",
      "pygments_lexer": "ipython3",
      "version": "3.13.5"
    }
  },
  "nbformat": 4,
  "nbformat_minor": 5
}
